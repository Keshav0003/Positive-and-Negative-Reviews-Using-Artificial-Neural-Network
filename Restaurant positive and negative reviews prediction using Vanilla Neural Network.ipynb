{
 "cells": [
  {
   "cell_type": "markdown",
   "id": "374b5975",
   "metadata": {},
   "source": [
    "# Read Data "
   ]
  },
  {
   "cell_type": "code",
   "execution_count": 1,
   "id": "28c45c7c",
   "metadata": {},
   "outputs": [],
   "source": [
    "from warnings import filterwarnings\n",
    "filterwarnings('ignore')\n",
    "import pandas as pd\n",
    "A = pd.read_csv(\"K:/DATA SCIENCE/Deep Learning/Restaurant_Reviews.tsv\",sep='\\t')"
   ]
  },
  {
   "cell_type": "code",
   "execution_count": 4,
   "id": "28f458d5",
   "metadata": {},
   "outputs": [
    {
     "data": {
      "text/html": [
       "<div>\n",
       "<style scoped>\n",
       "    .dataframe tbody tr th:only-of-type {\n",
       "        vertical-align: middle;\n",
       "    }\n",
       "\n",
       "    .dataframe tbody tr th {\n",
       "        vertical-align: top;\n",
       "    }\n",
       "\n",
       "    .dataframe thead th {\n",
       "        text-align: right;\n",
       "    }\n",
       "</style>\n",
       "<table border=\"1\" class=\"dataframe\">\n",
       "  <thead>\n",
       "    <tr style=\"text-align: right;\">\n",
       "      <th></th>\n",
       "      <th>Review</th>\n",
       "      <th>Liked</th>\n",
       "    </tr>\n",
       "  </thead>\n",
       "  <tbody>\n",
       "    <tr>\n",
       "      <th>0</th>\n",
       "      <td>Wow... Loved this place.</td>\n",
       "      <td>1</td>\n",
       "    </tr>\n",
       "    <tr>\n",
       "      <th>1</th>\n",
       "      <td>Crust is not good.</td>\n",
       "      <td>0</td>\n",
       "    </tr>\n",
       "    <tr>\n",
       "      <th>2</th>\n",
       "      <td>Not tasty and the texture was just nasty.</td>\n",
       "      <td>0</td>\n",
       "    </tr>\n",
       "    <tr>\n",
       "      <th>3</th>\n",
       "      <td>Stopped by during the late May bank holiday of...</td>\n",
       "      <td>1</td>\n",
       "    </tr>\n",
       "    <tr>\n",
       "      <th>4</th>\n",
       "      <td>The selection on the menu was great and so wer...</td>\n",
       "      <td>1</td>\n",
       "    </tr>\n",
       "  </tbody>\n",
       "</table>\n",
       "</div>"
      ],
      "text/plain": [
       "                                              Review  Liked\n",
       "0                           Wow... Loved this place.      1\n",
       "1                                 Crust is not good.      0\n",
       "2          Not tasty and the texture was just nasty.      0\n",
       "3  Stopped by during the late May bank holiday of...      1\n",
       "4  The selection on the menu was great and so wer...      1"
      ]
     },
     "execution_count": 4,
     "metadata": {},
     "output_type": "execute_result"
    }
   ],
   "source": [
    "A.head()"
   ]
  },
  {
   "cell_type": "code",
   "execution_count": 3,
   "id": "3a7c7cb0",
   "metadata": {},
   "outputs": [
    {
     "name": "stdout",
     "output_type": "stream",
     "text": [
      "<class 'pandas.core.frame.DataFrame'>\n",
      "RangeIndex: 1000 entries, 0 to 999\n",
      "Data columns (total 2 columns):\n",
      " #   Column  Non-Null Count  Dtype \n",
      "---  ------  --------------  ----- \n",
      " 0   Review  1000 non-null   object\n",
      " 1   Liked   1000 non-null   int64 \n",
      "dtypes: int64(1), object(1)\n",
      "memory usage: 15.8+ KB\n"
     ]
    }
   ],
   "source": [
    "A.info()"
   ]
  },
  {
   "cell_type": "code",
   "execution_count": 5,
   "id": "6da41283",
   "metadata": {},
   "outputs": [
    {
     "data": {
      "text/plain": [
       "(1000, 2)"
      ]
     },
     "execution_count": 5,
     "metadata": {},
     "output_type": "execute_result"
    }
   ],
   "source": [
    "A.shape"
   ]
  },
  {
   "cell_type": "markdown",
   "id": "4e6fd480",
   "metadata": {},
   "source": [
    "# Removing Special Symobls "
   ]
  },
  {
   "cell_type": "code",
   "execution_count": 6,
   "id": "66acd7b2",
   "metadata": {},
   "outputs": [],
   "source": [
    "Q = []\n",
    "from re import sub\n",
    "for i in A.Review:\n",
    "    Q.append(sub(\"[^a-zA-Z0-9 ]\",\"\",i.upper()))"
   ]
  },
  {
   "cell_type": "code",
   "execution_count": 7,
   "id": "f3e8d16f",
   "metadata": {},
   "outputs": [
    {
     "data": {
      "text/plain": [
       "['WOW LOVED THIS PLACE',\n",
       " 'CRUST IS NOT GOOD',\n",
       " 'NOT TASTY AND THE TEXTURE WAS JUST NASTY',\n",
       " 'STOPPED BY DURING THE LATE MAY BANK HOLIDAY OFF RICK STEVE RECOMMENDATION AND LOVED IT',\n",
       " 'THE SELECTION ON THE MENU WAS GREAT AND SO WERE THE PRICES',\n",
       " 'NOW I AM GETTING ANGRY AND I WANT MY DAMN PHO',\n",
       " 'HONESLTY IT DIDNT TASTE THAT FRESH',\n",
       " 'THE POTATOES WERE LIKE RUBBER AND YOU COULD TELL THEY HAD BEEN MADE UP AHEAD OF TIME BEING KEPT UNDER A WARMER',\n",
       " 'THE FRIES WERE GREAT TOO',\n",
       " 'A GREAT TOUCH',\n",
       " 'SERVICE WAS VERY PROMPT',\n",
       " 'WOULD NOT GO BACK',\n",
       " 'THE CASHIER HAD NO CARE WHAT SO EVER ON WHAT I HAD TO SAY IT STILL ENDED UP BEING WAYYY OVERPRICED',\n",
       " 'I TRIED THE CAPE COD RAVOLI CHICKEN WITH CRANBERRYMMMM',\n",
       " 'I WAS DISGUSTED BECAUSE I WAS PRETTY SURE THAT WAS HUMAN HAIR',\n",
       " 'I WAS SHOCKED BECAUSE NO SIGNS INDICATE CASH ONLY',\n",
       " 'HIGHLY RECOMMENDED',\n",
       " 'WAITRESS WAS A LITTLE SLOW IN SERVICE',\n",
       " 'THIS PLACE IS NOT WORTH YOUR TIME LET ALONE VEGAS',\n",
       " 'DID NOT LIKE AT ALL',\n",
       " 'THE BURRITTOS BLAH',\n",
       " 'THE FOOD AMAZING',\n",
       " 'SERVICE IS ALSO CUTE',\n",
       " 'I COULD CARE LESS THE INTERIOR IS JUST BEAUTIFUL',\n",
       " 'SO THEY PERFORMED',\n",
       " 'THATS RIGHTTHE RED VELVET CAKEOHHH THIS STUFF IS SO GOOD',\n",
       " ' THEY NEVER BROUGHT A SALAD WE ASKED FOR',\n",
       " 'THIS HOLE IN THE WALL HAS GREAT MEXICAN STREET TACOS AND FRIENDLY STAFF',\n",
       " 'TOOK AN HOUR TO GET OUR FOOD ONLY 4 TABLES IN RESTAURANT MY FOOD WAS LUKE WARM OUR SEVER WAS RUNNING AROUND LIKE HE WAS TOTALLY OVERWHELMED']"
      ]
     },
     "execution_count": 7,
     "metadata": {},
     "output_type": "execute_result"
    }
   ],
   "source": [
    "Q[0:29]"
   ]
  },
  {
   "cell_type": "markdown",
   "id": "f459055b",
   "metadata": {},
   "source": [
    "# Bag of Words"
   ]
  },
  {
   "cell_type": "code",
   "execution_count": 8,
   "id": "31101d74",
   "metadata": {},
   "outputs": [
    {
     "data": {
      "text/plain": [
       "array([[0, 0, 0, ..., 0, 0, 0],\n",
       "       [0, 0, 0, ..., 0, 0, 0],\n",
       "       [0, 0, 0, ..., 0, 0, 0],\n",
       "       ...,\n",
       "       [0, 0, 0, ..., 0, 0, 0],\n",
       "       [0, 0, 0, ..., 0, 0, 0],\n",
       "       [0, 0, 0, ..., 0, 0, 0]], dtype=int64)"
      ]
     },
     "execution_count": 8,
     "metadata": {},
     "output_type": "execute_result"
    }
   ],
   "source": [
    "from sklearn.feature_extraction.text import CountVectorizer\n",
    "cv=CountVectorizer()\n",
    "bag_of_words=cv.fit_transform(Q).toarray()\n",
    "bag_of_words[0:20]"
   ]
  },
  {
   "cell_type": "code",
   "execution_count": 9,
   "id": "f9ea60fb",
   "metadata": {},
   "outputs": [],
   "source": [
    "#all unique words\n",
    "words=cv.get_feature_names()"
   ]
  },
  {
   "cell_type": "code",
   "execution_count": 10,
   "id": "25df2c6b",
   "metadata": {},
   "outputs": [
    {
     "data": {
      "text/plain": [
       "['10',\n",
       " '100',\n",
       " '1199',\n",
       " '12',\n",
       " '15',\n",
       " '15lb',\n",
       " '17',\n",
       " '1979',\n",
       " '20',\n",
       " '2007',\n",
       " '23',\n",
       " '30',\n",
       " '30s',\n",
       " '34ths',\n",
       " '35',\n",
       " '40',\n",
       " '400',\n",
       " '40min',\n",
       " '45',\n",
       " '70']"
      ]
     },
     "execution_count": 10,
     "metadata": {},
     "output_type": "execute_result"
    }
   ],
   "source": [
    "words[0:20]"
   ]
  },
  {
   "cell_type": "code",
   "execution_count": 11,
   "id": "0851e55c",
   "metadata": {},
   "outputs": [],
   "source": [
    "from sklearn.model_selection import train_test_split\n",
    "X=bag_of_words\n",
    "Y=A.Liked\n",
    "xtrain,xtest,ytrain,ytest=train_test_split(X,Y,test_size=0.2,random_state=21)\n",
    "#xtrain"
   ]
  },
  {
   "cell_type": "code",
   "execution_count": 12,
   "id": "8a15530f",
   "metadata": {},
   "outputs": [
    {
     "data": {
      "text/plain": [
       "(1000, 2067)"
      ]
     },
     "execution_count": 12,
     "metadata": {},
     "output_type": "execute_result"
    }
   ],
   "source": [
    "X.shape"
   ]
  },
  {
   "cell_type": "markdown",
   "id": "c7849a02",
   "metadata": {},
   "source": [
    "# Artificial Neural Network"
   ]
  },
  {
   "cell_type": "code",
   "execution_count": 13,
   "id": "db961aa1",
   "metadata": {},
   "outputs": [],
   "source": [
    "from keras.models import Sequential\n",
    "from keras.layers import Dense,Dropout\n",
    "nn=Sequential()\n",
    "nn.add(Dense(500,input_dim=(2067)))\n",
    "nn.add(Dense(500))\n",
    "nn.add(Dropout(0.3))\n",
    "nn.add(Dense(1,activation='sigmoid'))"
   ]
  },
  {
   "cell_type": "code",
   "execution_count": 14,
   "id": "af70a710",
   "metadata": {},
   "outputs": [
    {
     "name": "stdout",
     "output_type": "stream",
     "text": [
      "Epoch 1/100\n",
      "20/20 [==============================] - 2s 56ms/step - loss: 0.6020 - accuracy: 0.6484 - val_loss: 0.4799 - val_accuracy: 0.8000\n",
      "Epoch 2/100\n",
      "20/20 [==============================] - 1s 30ms/step - loss: 0.2234 - accuracy: 0.9297 - val_loss: 0.4691 - val_accuracy: 0.7937\n",
      "Epoch 3/100\n",
      "20/20 [==============================] - 1s 29ms/step - loss: 0.0836 - accuracy: 0.9766 - val_loss: 0.5774 - val_accuracy: 0.7625\n",
      "Epoch 4/100\n",
      "20/20 [==============================] - 1s 28ms/step - loss: 0.0315 - accuracy: 0.9922 - val_loss: 0.7522 - val_accuracy: 0.7312\n",
      "Epoch 5/100\n",
      "20/20 [==============================] - 1s 29ms/step - loss: 0.0106 - accuracy: 0.9969 - val_loss: 1.0131 - val_accuracy: 0.7250\n",
      "Epoch 6/100\n",
      "20/20 [==============================] - 1s 27ms/step - loss: 0.0026 - accuracy: 1.0000 - val_loss: 1.1061 - val_accuracy: 0.7250\n",
      "Epoch 7/100\n",
      "20/20 [==============================] - 1s 28ms/step - loss: 9.7437e-04 - accuracy: 1.0000 - val_loss: 1.4306 - val_accuracy: 0.7063\n",
      "Epoch 8/100\n",
      "20/20 [==============================] - 1s 27ms/step - loss: 4.0150e-04 - accuracy: 1.0000 - val_loss: 1.4148 - val_accuracy: 0.7125\n",
      "Epoch 9/100\n",
      "20/20 [==============================] - 1s 28ms/step - loss: 7.1281e-05 - accuracy: 1.0000 - val_loss: 1.5554 - val_accuracy: 0.7188\n",
      "Epoch 10/100\n",
      "20/20 [==============================] - 1s 30ms/step - loss: 2.8659e-05 - accuracy: 1.0000 - val_loss: 1.7248 - val_accuracy: 0.7188\n",
      "Epoch 11/100\n",
      "20/20 [==============================] - 1s 27ms/step - loss: 1.2477e-05 - accuracy: 1.0000 - val_loss: 2.0546 - val_accuracy: 0.7188\n",
      "Epoch 12/100\n",
      "20/20 [==============================] - 1s 26ms/step - loss: 6.2063e-06 - accuracy: 1.0000 - val_loss: 2.1970 - val_accuracy: 0.7000\n",
      "Epoch 13/100\n",
      "20/20 [==============================] - 1s 26ms/step - loss: 1.1970e-05 - accuracy: 1.0000 - val_loss: 2.2092 - val_accuracy: 0.7188\n",
      "Epoch 14/100\n",
      "20/20 [==============================] - 1s 25ms/step - loss: 1.3088e-06 - accuracy: 1.0000 - val_loss: 2.3830 - val_accuracy: 0.7188\n",
      "Epoch 15/100\n",
      "20/20 [==============================] - 1s 25ms/step - loss: 1.5164e-07 - accuracy: 1.0000 - val_loss: 2.4123 - val_accuracy: 0.7188\n",
      "Epoch 16/100\n",
      "20/20 [==============================] - 1s 26ms/step - loss: 1.0621e-07 - accuracy: 1.0000 - val_loss: 2.4890 - val_accuracy: 0.7188\n",
      "Epoch 17/100\n",
      "20/20 [==============================] - 1s 26ms/step - loss: 5.1595e-08 - accuracy: 1.0000 - val_loss: 2.5178 - val_accuracy: 0.7250\n",
      "Epoch 18/100\n",
      "20/20 [==============================] - 1s 26ms/step - loss: 3.3424e-08 - accuracy: 1.0000 - val_loss: 2.5951 - val_accuracy: 0.7125\n",
      "Epoch 19/100\n",
      "20/20 [==============================] - 1s 25ms/step - loss: 2.3952e-08 - accuracy: 1.0000 - val_loss: 2.6282 - val_accuracy: 0.7063\n",
      "Epoch 20/100\n",
      "20/20 [==============================] - 1s 25ms/step - loss: 2.2253e-08 - accuracy: 1.0000 - val_loss: 2.6823 - val_accuracy: 0.7000\n",
      "Epoch 21/100\n",
      "20/20 [==============================] - 1s 26ms/step - loss: 1.5745e-08 - accuracy: 1.0000 - val_loss: 2.6878 - val_accuracy: 0.7125\n",
      "Epoch 22/100\n",
      "20/20 [==============================] - 1s 25ms/step - loss: 1.3785e-08 - accuracy: 1.0000 - val_loss: 2.6738 - val_accuracy: 0.7063\n",
      "Epoch 23/100\n",
      "20/20 [==============================] - 1s 28ms/step - loss: 1.5480e-08 - accuracy: 1.0000 - val_loss: 2.7090 - val_accuracy: 0.7063\n",
      "Epoch 24/100\n",
      "20/20 [==============================] - 1s 26ms/step - loss: 1.2068e-08 - accuracy: 1.0000 - val_loss: 2.7086 - val_accuracy: 0.7125\n",
      "Epoch 25/100\n",
      "20/20 [==============================] - 1s 25ms/step - loss: 1.0452e-08 - accuracy: 1.0000 - val_loss: 2.7347 - val_accuracy: 0.7125\n",
      "Epoch 26/100\n",
      "20/20 [==============================] - 1s 26ms/step - loss: 7.3849e-09 - accuracy: 1.0000 - val_loss: 2.7344 - val_accuracy: 0.7125\n",
      "Epoch 27/100\n",
      "20/20 [==============================] - 1s 25ms/step - loss: 9.4301e-09 - accuracy: 1.0000 - val_loss: 2.7415 - val_accuracy: 0.7063\n",
      "Epoch 28/100\n",
      "20/20 [==============================] - 1s 26ms/step - loss: 7.9169e-09 - accuracy: 1.0000 - val_loss: 2.7566 - val_accuracy: 0.7063\n",
      "Epoch 29/100\n",
      "20/20 [==============================] - 1s 26ms/step - loss: 7.5960e-09 - accuracy: 1.0000 - val_loss: 2.7838 - val_accuracy: 0.7125\n",
      "Epoch 30/100\n",
      "20/20 [==============================] - 1s 27ms/step - loss: 6.9759e-09 - accuracy: 1.0000 - val_loss: 2.7682 - val_accuracy: 0.7000\n",
      "Epoch 31/100\n",
      "20/20 [==============================] - 1s 27ms/step - loss: 6.7061e-09 - accuracy: 1.0000 - val_loss: 2.7968 - val_accuracy: 0.7063\n",
      "Epoch 32/100\n",
      "20/20 [==============================] - 1s 29ms/step - loss: 6.3713e-09 - accuracy: 1.0000 - val_loss: 2.8333 - val_accuracy: 0.7063\n",
      "Epoch 33/100\n",
      "20/20 [==============================] - 1s 34ms/step - loss: 5.1621e-09 - accuracy: 1.0000 - val_loss: 2.8083 - val_accuracy: 0.7063\n",
      "Epoch 34/100\n",
      "20/20 [==============================] - 1s 32ms/step - loss: 5.2352e-09 - accuracy: 1.0000 - val_loss: 2.8303 - val_accuracy: 0.7125\n",
      "Epoch 35/100\n",
      "20/20 [==============================] - 1s 33ms/step - loss: 4.7279e-09 - accuracy: 1.0000 - val_loss: 2.8309 - val_accuracy: 0.7125\n",
      "Epoch 36/100\n",
      "20/20 [==============================] - 1s 31ms/step - loss: 5.1530e-09 - accuracy: 1.0000 - val_loss: 2.8373 - val_accuracy: 0.7125\n",
      "Epoch 37/100\n",
      "20/20 [==============================] - 1s 34ms/step - loss: 3.9111e-09 - accuracy: 1.0000 - val_loss: 2.8361 - val_accuracy: 0.7063\n",
      "Epoch 38/100\n",
      "20/20 [==============================] - 1s 30ms/step - loss: 4.3967e-09 - accuracy: 1.0000 - val_loss: 2.8465 - val_accuracy: 0.7063\n",
      "Epoch 39/100\n",
      "20/20 [==============================] - 1s 29ms/step - loss: 4.1523e-09 - accuracy: 1.0000 - val_loss: 2.8622 - val_accuracy: 0.7125\n",
      "Epoch 40/100\n",
      "20/20 [==============================] - 1s 30ms/step - loss: 3.9362e-09 - accuracy: 1.0000 - val_loss: 2.8648 - val_accuracy: 0.7125\n",
      "Epoch 41/100\n",
      "20/20 [==============================] - 1s 28ms/step - loss: 3.7961e-09 - accuracy: 1.0000 - val_loss: 2.8560 - val_accuracy: 0.7063\n",
      "Epoch 42/100\n",
      "20/20 [==============================] - 1s 27ms/step - loss: 3.7378e-09 - accuracy: 1.0000 - val_loss: 2.8802 - val_accuracy: 0.7125\n",
      "Epoch 43/100\n",
      "20/20 [==============================] - 1s 29ms/step - loss: 4.6371e-09 - accuracy: 1.0000 - val_loss: 2.8873 - val_accuracy: 0.7063\n",
      "Epoch 44/100\n",
      "20/20 [==============================] - 1s 27ms/step - loss: 3.3705e-09 - accuracy: 1.0000 - val_loss: 2.8730 - val_accuracy: 0.7000\n",
      "Epoch 45/100\n",
      "20/20 [==============================] - 1s 27ms/step - loss: 3.9297e-09 - accuracy: 1.0000 - val_loss: 2.8771 - val_accuracy: 0.7000\n",
      "Epoch 46/100\n",
      "20/20 [==============================] - 1s 28ms/step - loss: 4.5644e-09 - accuracy: 1.0000 - val_loss: 2.8792 - val_accuracy: 0.7000\n",
      "Epoch 47/100\n",
      "20/20 [==============================] - 1s 27ms/step - loss: 3.1318e-09 - accuracy: 1.0000 - val_loss: 2.8826 - val_accuracy: 0.7000\n",
      "Epoch 48/100\n",
      "20/20 [==============================] - 1s 27ms/step - loss: 3.3134e-09 - accuracy: 1.0000 - val_loss: 2.8978 - val_accuracy: 0.7000\n",
      "Epoch 49/100\n",
      "20/20 [==============================] - 1s 30ms/step - loss: 3.1526e-09 - accuracy: 1.0000 - val_loss: 2.9016 - val_accuracy: 0.7000\n",
      "Epoch 50/100\n",
      "20/20 [==============================] - 1s 26ms/step - loss: 3.1892e-09 - accuracy: 1.0000 - val_loss: 2.9049 - val_accuracy: 0.7000\n",
      "Epoch 51/100\n",
      "20/20 [==============================] - 1s 25ms/step - loss: 3.0558e-09 - accuracy: 1.0000 - val_loss: 2.9104 - val_accuracy: 0.7000\n",
      "Epoch 52/100\n",
      "20/20 [==============================] - 1s 25ms/step - loss: 3.2861e-09 - accuracy: 1.0000 - val_loss: 2.9142 - val_accuracy: 0.7000\n",
      "Epoch 53/100\n",
      "20/20 [==============================] - 0s 25ms/step - loss: 3.1410e-09 - accuracy: 1.0000 - val_loss: 2.9200 - val_accuracy: 0.7000\n",
      "Epoch 54/100\n",
      "20/20 [==============================] - 1s 25ms/step - loss: 2.6014e-09 - accuracy: 1.0000 - val_loss: 2.9140 - val_accuracy: 0.7063\n",
      "Epoch 55/100\n",
      "20/20 [==============================] - 1s 26ms/step - loss: 2.8023e-09 - accuracy: 1.0000 - val_loss: 2.9222 - val_accuracy: 0.7000\n",
      "Epoch 56/100\n",
      "20/20 [==============================] - 1s 27ms/step - loss: 2.7694e-09 - accuracy: 1.0000 - val_loss: 2.9265 - val_accuracy: 0.7000\n",
      "Epoch 57/100\n",
      "20/20 [==============================] - 1s 28ms/step - loss: 2.7033e-09 - accuracy: 1.0000 - val_loss: 2.9337 - val_accuracy: 0.7000\n",
      "Epoch 58/100\n",
      "20/20 [==============================] - 1s 27ms/step - loss: 2.9419e-09 - accuracy: 1.0000 - val_loss: 2.9414 - val_accuracy: 0.7000\n",
      "Epoch 59/100\n",
      "20/20 [==============================] - 1s 29ms/step - loss: 2.4220e-09 - accuracy: 1.0000 - val_loss: 2.9274 - val_accuracy: 0.7000\n",
      "Epoch 60/100\n",
      "20/20 [==============================] - 1s 28ms/step - loss: 2.5005e-09 - accuracy: 1.0000 - val_loss: 2.9338 - val_accuracy: 0.7000\n",
      "Epoch 61/100\n",
      "20/20 [==============================] - 1s 30ms/step - loss: 2.6993e-09 - accuracy: 1.0000 - val_loss: 2.9347 - val_accuracy: 0.7000\n",
      "Epoch 62/100\n",
      "20/20 [==============================] - 1s 30ms/step - loss: 2.6539e-09 - accuracy: 1.0000 - val_loss: 2.9374 - val_accuracy: 0.7000\n",
      "Epoch 63/100\n",
      "20/20 [==============================] - 1s 30ms/step - loss: 2.6520e-09 - accuracy: 1.0000 - val_loss: 2.9523 - val_accuracy: 0.7000\n",
      "Epoch 64/100\n",
      "20/20 [==============================] - 1s 30ms/step - loss: 2.7233e-09 - accuracy: 1.0000 - val_loss: 2.9456 - val_accuracy: 0.7000\n",
      "Epoch 65/100\n",
      "20/20 [==============================] - 1s 33ms/step - loss: 2.4435e-09 - accuracy: 1.0000 - val_loss: 2.9386 - val_accuracy: 0.7000\n",
      "Epoch 66/100\n",
      "20/20 [==============================] - 1s 30ms/step - loss: 2.7968e-09 - accuracy: 1.0000 - val_loss: 2.9386 - val_accuracy: 0.7000\n",
      "Epoch 67/100\n",
      "20/20 [==============================] - 1s 29ms/step - loss: 2.5612e-09 - accuracy: 1.0000 - val_loss: 2.9471 - val_accuracy: 0.7000\n",
      "Epoch 68/100\n",
      "20/20 [==============================] - 1s 27ms/step - loss: 2.2849e-09 - accuracy: 1.0000 - val_loss: 2.9455 - val_accuracy: 0.7000\n",
      "Epoch 69/100\n",
      "20/20 [==============================] - 1s 26ms/step - loss: 2.1076e-09 - accuracy: 1.0000 - val_loss: 2.9482 - val_accuracy: 0.7000\n",
      "Epoch 70/100\n",
      "20/20 [==============================] - 1s 27ms/step - loss: 2.2934e-09 - accuracy: 1.0000 - val_loss: 2.9562 - val_accuracy: 0.7000\n",
      "Epoch 71/100\n",
      "20/20 [==============================] - 0s 25ms/step - loss: 2.3623e-09 - accuracy: 1.0000 - val_loss: 2.9463 - val_accuracy: 0.7000\n",
      "Epoch 72/100\n",
      "20/20 [==============================] - 1s 27ms/step - loss: 2.3822e-09 - accuracy: 1.0000 - val_loss: 2.9593 - val_accuracy: 0.7000\n",
      "Epoch 73/100\n",
      "20/20 [==============================] - 1s 27ms/step - loss: 2.4269e-09 - accuracy: 1.0000 - val_loss: 2.9640 - val_accuracy: 0.7000\n",
      "Epoch 74/100\n",
      "20/20 [==============================] - 1s 28ms/step - loss: 1.9534e-09 - accuracy: 1.0000 - val_loss: 2.9661 - val_accuracy: 0.7000\n",
      "Epoch 75/100\n",
      "20/20 [==============================] - 1s 29ms/step - loss: 2.0960e-09 - accuracy: 1.0000 - val_loss: 2.9625 - val_accuracy: 0.7000\n",
      "Epoch 76/100\n",
      "20/20 [==============================] - 1s 26ms/step - loss: 2.1243e-09 - accuracy: 1.0000 - val_loss: 2.9598 - val_accuracy: 0.7000\n",
      "Epoch 77/100\n",
      "20/20 [==============================] - 1s 26ms/step - loss: 2.0288e-09 - accuracy: 1.0000 - val_loss: 2.9619 - val_accuracy: 0.7000\n",
      "Epoch 78/100\n",
      "20/20 [==============================] - 1s 26ms/step - loss: 2.0139e-09 - accuracy: 1.0000 - val_loss: 2.9652 - val_accuracy: 0.7000\n",
      "Epoch 79/100\n",
      "20/20 [==============================] - 1s 25ms/step - loss: 2.0765e-09 - accuracy: 1.0000 - val_loss: 2.9651 - val_accuracy: 0.7000\n",
      "Epoch 80/100\n",
      "20/20 [==============================] - 1s 28ms/step - loss: 2.1194e-09 - accuracy: 1.0000 - val_loss: 2.9688 - val_accuracy: 0.7000\n",
      "Epoch 81/100\n",
      "20/20 [==============================] - 1s 25ms/step - loss: 2.0801e-09 - accuracy: 1.0000 - val_loss: 2.9756 - val_accuracy: 0.7000\n",
      "Epoch 82/100\n",
      "20/20 [==============================] - 1s 26ms/step - loss: 1.8834e-09 - accuracy: 1.0000 - val_loss: 2.9745 - val_accuracy: 0.7000\n",
      "Epoch 83/100\n",
      "20/20 [==============================] - 1s 25ms/step - loss: 1.8638e-09 - accuracy: 1.0000 - val_loss: 2.9753 - val_accuracy: 0.7000\n",
      "Epoch 84/100\n",
      "20/20 [==============================] - 1s 26ms/step - loss: 1.8885e-09 - accuracy: 1.0000 - val_loss: 2.9789 - val_accuracy: 0.7000\n",
      "Epoch 85/100\n",
      "20/20 [==============================] - 1s 25ms/step - loss: 1.8698e-09 - accuracy: 1.0000 - val_loss: 2.9825 - val_accuracy: 0.7000\n",
      "Epoch 86/100\n",
      "20/20 [==============================] - 1s 26ms/step - loss: 1.9245e-09 - accuracy: 1.0000 - val_loss: 2.9855 - val_accuracy: 0.7000\n",
      "Epoch 87/100\n",
      "20/20 [==============================] - 1s 25ms/step - loss: 2.1420e-09 - accuracy: 1.0000 - val_loss: 2.9973 - val_accuracy: 0.7000\n",
      "Epoch 88/100\n",
      "20/20 [==============================] - 1s 29ms/step - loss: 1.6173e-09 - accuracy: 1.0000 - val_loss: 2.9902 - val_accuracy: 0.7000\n",
      "Epoch 89/100\n",
      "20/20 [==============================] - 1s 26ms/step - loss: 1.8496e-09 - accuracy: 1.0000 - val_loss: 2.9911 - val_accuracy: 0.7000\n",
      "Epoch 90/100\n",
      "20/20 [==============================] - 1s 27ms/step - loss: 1.8401e-09 - accuracy: 1.0000 - val_loss: 2.9904 - val_accuracy: 0.7000\n",
      "Epoch 91/100\n",
      "20/20 [==============================] - 1s 29ms/step - loss: 1.7646e-09 - accuracy: 1.0000 - val_loss: 2.9813 - val_accuracy: 0.7000\n",
      "Epoch 92/100\n",
      "20/20 [==============================] - 1s 27ms/step - loss: 1.8064e-09 - accuracy: 1.0000 - val_loss: 2.9843 - val_accuracy: 0.7000\n",
      "Epoch 93/100\n",
      "20/20 [==============================] - 1s 29ms/step - loss: 1.8140e-09 - accuracy: 1.0000 - val_loss: 2.9791 - val_accuracy: 0.7063\n",
      "Epoch 94/100\n",
      "20/20 [==============================] - 1s 28ms/step - loss: 1.6800e-09 - accuracy: 1.0000 - val_loss: 2.9737 - val_accuracy: 0.7063\n",
      "Epoch 95/100\n",
      "20/20 [==============================] - 1s 30ms/step - loss: 2.1227e-09 - accuracy: 1.0000 - val_loss: 2.9744 - val_accuracy: 0.7063\n",
      "Epoch 96/100\n",
      "20/20 [==============================] - 1s 28ms/step - loss: 1.8476e-09 - accuracy: 1.0000 - val_loss: 2.9768 - val_accuracy: 0.7063\n",
      "Epoch 97/100\n",
      "20/20 [==============================] - 1s 29ms/step - loss: 1.7943e-09 - accuracy: 1.0000 - val_loss: 2.9767 - val_accuracy: 0.7063\n",
      "Epoch 98/100\n",
      "20/20 [==============================] - 1s 28ms/step - loss: 1.8388e-09 - accuracy: 1.0000 - val_loss: 2.9819 - val_accuracy: 0.7000\n",
      "Epoch 99/100\n",
      "20/20 [==============================] - 1s 30ms/step - loss: 1.6329e-09 - accuracy: 1.0000 - val_loss: 2.9832 - val_accuracy: 0.7000\n",
      "Epoch 100/100\n",
      "20/20 [==============================] - 1s 29ms/step - loss: 1.8818e-09 - accuracy: 1.0000 - val_loss: 2.9931 - val_accuracy: 0.7000\n"
     ]
    },
    {
     "data": {
      "text/plain": [
       "<keras.callbacks.History at 0x18c9f5bbd30>"
      ]
     },
     "execution_count": 14,
     "metadata": {},
     "output_type": "execute_result"
    }
   ],
   "source": [
    "nn.compile(loss='binary_crossentropy',metrics=['accuracy'])\n",
    "nn.fit(xtrain,ytrain,validation_split=0.2,epochs=100)"
   ]
  },
  {
   "cell_type": "markdown",
   "id": "69379ad9",
   "metadata": {},
   "source": [
    "# Testing and Evaluation"
   ]
  },
  {
   "cell_type": "code",
   "execution_count": 15,
   "id": "de86ebf9",
   "metadata": {},
   "outputs": [],
   "source": [
    "Q = []\n",
    "for i in nn.predict(xtest):\n",
    "    if(i[0] < 0.5):\n",
    "        Q.append(0)\n",
    "    else:\n",
    "        Q.append(1)"
   ]
  },
  {
   "cell_type": "code",
   "execution_count": 16,
   "id": "de422d92",
   "metadata": {},
   "outputs": [
    {
     "data": {
      "text/plain": [
       "0.755"
      ]
     },
     "execution_count": 16,
     "metadata": {},
     "output_type": "execute_result"
    }
   ],
   "source": [
    "from sklearn.metrics import accuracy_score\n",
    "accuracy_score(ytest,Q)"
   ]
  },
  {
   "cell_type": "markdown",
   "id": "323514f8",
   "metadata": {},
   "source": [
    "# Predicting own data"
   ]
  },
  {
   "cell_type": "code",
   "execution_count": 17,
   "id": "0b56d962",
   "metadata": {},
   "outputs": [],
   "source": [
    "check=\"The food was excellent\""
   ]
  },
  {
   "cell_type": "code",
   "execution_count": 18,
   "id": "f6cb1059",
   "metadata": {},
   "outputs": [],
   "source": [
    "check1=cv.transform([check.upper()]).toarray()"
   ]
  },
  {
   "cell_type": "code",
   "execution_count": 22,
   "id": "01cd0327",
   "metadata": {},
   "outputs": [],
   "source": [
    "pred=nn.predict(check1)[0]"
   ]
  },
  {
   "cell_type": "code",
   "execution_count": 23,
   "id": "14b216c9",
   "metadata": {},
   "outputs": [],
   "source": [
    "Q=[]\n",
    "if pred>0.5:\n",
    "    Q.append('Positive')\n",
    "else:\n",
    "    Q.append('Negative')"
   ]
  },
  {
   "cell_type": "code",
   "execution_count": 24,
   "id": "a162d38d",
   "metadata": {},
   "outputs": [
    {
     "data": {
      "text/plain": [
       "['Positive']"
      ]
     },
     "execution_count": 24,
     "metadata": {},
     "output_type": "execute_result"
    }
   ],
   "source": [
    "Q"
   ]
  },
  {
   "cell_type": "code",
   "execution_count": null,
   "id": "0ef6bc66",
   "metadata": {},
   "outputs": [],
   "source": []
  }
 ],
 "metadata": {
  "kernelspec": {
   "display_name": "Python 3 (ipykernel)",
   "language": "python",
   "name": "python3"
  },
  "language_info": {
   "codemirror_mode": {
    "name": "ipython",
    "version": 3
   },
   "file_extension": ".py",
   "mimetype": "text/x-python",
   "name": "python",
   "nbconvert_exporter": "python",
   "pygments_lexer": "ipython3",
   "version": "3.8.12"
  }
 },
 "nbformat": 4,
 "nbformat_minor": 5
}
